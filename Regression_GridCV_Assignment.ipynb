{
 "cells": [
  {
   "cell_type": "markdown",
   "id": "2105dac4",
   "metadata": {},
   "source": [
    "## Using GridCV and applying all ML algorithms "
   ]
  },
  {
   "cell_type": "code",
   "execution_count": 1,
   "id": "7e3bda9f",
   "metadata": {},
   "outputs": [],
   "source": [
    "#import all the required libraries and use get \n",
    "import pandas as pd\n",
    "from sklearn.model_selection import train_test_split, GridSearchCV\n",
    "from sklearn.linear_model import LinearRegression\n",
    "from sklearn.svm import SVR\n",
    "from sklearn.tree import DecisionTreeRegressor\n",
    "from sklearn.ensemble import RandomForestRegressor\n",
    "from sklearn.preprocessing import StandardScaler\n",
    "from sklearn.metrics import mean_squared_error, r2_score\n",
    "from joblib import dump\n",
    "from joblib import parallel_backend\n",
    "\n",
    "\n",
    "# Read data from CSV file\n",
    "data = pd.read_csv('insurance_pre.csv')\n",
    "data = pd.get_dummies(data,drop_first=True)\n",
    "\n",
    "# Split the data into input and output variables\n",
    "X = data.drop('charges', axis=1)\n",
    "y = data['charges']\n",
    "\n",
    "\n",
    "# Split the dataset into train and test sets\n",
    "X_train, X_test, y_train, y_test = train_test_split(X, y, test_size=0.30, random_state=0)"
   ]
  },
  {
   "cell_type": "code",
   "execution_count": 2,
   "id": "b31aebe7",
   "metadata": {},
   "outputs": [],
   "source": [
    "results = []\n",
    "\n",
    "# Multiple Linear Regression\n",
    "mlr_model = LinearRegression()\n",
    "mlr_params = {}\n",
    "mlr_grid_search = GridSearchCV(mlr_model, mlr_params, scoring='neg_mean_squared_error')\n",
    "mlr_grid_search.fit(X_train, y_train)\n",
    "\n",
    "mlr_best_model = mlr_grid_search.best_estimator_\n",
    "mlr_best_params = mlr_grid_search.best_params_\n",
    "mlr_best_score = -mlr_grid_search.best_score_\n",
    "\n",
    "results.append({'Model': 'Multiple Linear Regression', 'Best Parameters': mlr_best_params, 'Best Score': mlr_best_score})"
   ]
  },
  {
   "cell_type": "code",
   "execution_count": 3,
   "id": "c6c6f982",
   "metadata": {},
   "outputs": [],
   "source": [
    "# SVR\n",
    "svr_model = SVR()\n",
    "svr_params = {\n",
    "    'kernel': ['rbf', 'sigmoid'],\n",
    "    'gamma': ['scale', 'auto'],\n",
    "    'C': [10, 100, 1000]\n",
    "}\n",
    "svr_grid_search = GridSearchCV(svr_model, svr_params, scoring='neg_mean_squared_error')\n",
    "svr_grid_search.fit(X_train, y_train)\n",
    "\n",
    "svr_best_model = svr_grid_search.best_estimator_\n",
    "svr_best_params = svr_grid_search.best_params_\n",
    "svr_best_score = -svr_grid_search.best_score_\n",
    "\n",
    "results.append({'Model': 'SVR', 'Best Parameters': svr_best_params, 'Best Score': svr_best_score})\n"
   ]
  },
  {
   "cell_type": "code",
   "execution_count": 4,
   "id": "330b961c",
   "metadata": {},
   "outputs": [],
   "source": [
    "# Decision Tree\n",
    "dt_model = DecisionTreeRegressor()\n",
    "dt_params = {\n",
    "    'max_depth': [None, 5, 10],\n",
    "    'min_samples_split': [2, 5, 10],\n",
    "    'criterion': ['mse', 'mae'],\n",
    "    \n",
    "}\n",
    "dt_grid_search = GridSearchCV(dt_model, dt_params, scoring='neg_mean_squared_error')\n",
    "dt_grid_search.fit(X_train, y_train)\n",
    "\n",
    "dt_best_model = dt_grid_search.best_estimator_\n",
    "dt_best_params = dt_grid_search.best_params_\n",
    "dt_best_score = -dt_grid_search.best_score_\n",
    "\n",
    "results.append({'Model': 'Decision Tree', 'Best Parameters': dt_best_params, 'Best Score': dt_best_score})"
   ]
  },
  {
   "cell_type": "code",
   "execution_count": 5,
   "id": "98016ae5",
   "metadata": {},
   "outputs": [],
   "source": [
    "# Random Forest\n",
    "rf_model = RandomForestRegressor()\n",
    "rf_params = {\n",
    "    'n_estimators': [100, 200],\n",
    "    'max_depth': [None, 5, 10],\n",
    "    'min_samples_split': [2, 5, 10],\n",
    "    #'criterion': ['squared_error', 'friedman_mse', 'absolute_error', 'poisson']\n",
    "}\n",
    "rf_grid_search = GridSearchCV(rf_model, rf_params, scoring='neg_mean_squared_error')\n",
    "rf_grid_search.fit(X_train, y_train)\n",
    "\n",
    "rf_best_model = rf_grid_search.best_estimator_\n",
    "rf_best_params = rf_grid_search.best_params_\n",
    "rf_best_score = -rf_grid_search.best_score_\n",
    "\n",
    "results.append({'Model': 'Random Forest', 'Best Parameters': rf_best_params, 'Best Score': rf_best_score})"
   ]
  },
  {
   "cell_type": "code",
   "execution_count": 6,
   "id": "9202326b",
   "metadata": {},
   "outputs": [],
   "source": [
    "# Create a dataframe of the evaluation results\n",
    "results_df = pd.DataFrame(results)"
   ]
  },
  {
   "cell_type": "code",
   "execution_count": 7,
   "id": "c936343b",
   "metadata": {},
   "outputs": [
    {
     "data": {
      "text/html": [
       "<div>\n",
       "<style scoped>\n",
       "    .dataframe tbody tr th:only-of-type {\n",
       "        vertical-align: middle;\n",
       "    }\n",
       "\n",
       "    .dataframe tbody tr th {\n",
       "        vertical-align: top;\n",
       "    }\n",
       "\n",
       "    .dataframe thead th {\n",
       "        text-align: right;\n",
       "    }\n",
       "</style>\n",
       "<table border=\"1\" class=\"dataframe\">\n",
       "  <thead>\n",
       "    <tr style=\"text-align: right;\">\n",
       "      <th></th>\n",
       "      <th>Model</th>\n",
       "      <th>Best Parameters</th>\n",
       "      <th>Best Score</th>\n",
       "    </tr>\n",
       "  </thead>\n",
       "  <tbody>\n",
       "    <tr>\n",
       "      <th>0</th>\n",
       "      <td>Multiple Linear Regression</td>\n",
       "      <td>{}</td>\n",
       "      <td>3.887963e+07</td>\n",
       "    </tr>\n",
       "    <tr>\n",
       "      <th>1</th>\n",
       "      <td>SVR</td>\n",
       "      <td>{'C': 100, 'gamma': 'auto', 'kernel': 'rbf'}</td>\n",
       "      <td>1.538392e+08</td>\n",
       "    </tr>\n",
       "    <tr>\n",
       "      <th>2</th>\n",
       "      <td>Decision Tree</td>\n",
       "      <td>{'criterion': 'mae', 'max_depth': 5, 'min_samp...</td>\n",
       "      <td>2.435635e+07</td>\n",
       "    </tr>\n",
       "    <tr>\n",
       "      <th>3</th>\n",
       "      <td>Random Forest</td>\n",
       "      <td>{'max_depth': 5, 'min_samples_split': 10, 'n_e...</td>\n",
       "      <td>2.348305e+07</td>\n",
       "    </tr>\n",
       "  </tbody>\n",
       "</table>\n",
       "</div>"
      ],
      "text/plain": [
       "                        Model  \\\n",
       "0  Multiple Linear Regression   \n",
       "1                         SVR   \n",
       "2               Decision Tree   \n",
       "3               Random Forest   \n",
       "\n",
       "                                     Best Parameters    Best Score  \n",
       "0                                                 {}  3.887963e+07  \n",
       "1       {'C': 100, 'gamma': 'auto', 'kernel': 'rbf'}  1.538392e+08  \n",
       "2  {'criterion': 'mae', 'max_depth': 5, 'min_samp...  2.435635e+07  \n",
       "3  {'max_depth': 5, 'min_samples_split': 10, 'n_e...  2.348305e+07  "
      ]
     },
     "execution_count": 7,
     "metadata": {},
     "output_type": "execute_result"
    }
   ],
   "source": [
    "results_df"
   ]
  },
  {
   "cell_type": "code",
   "execution_count": 8,
   "id": "e9d30d26",
   "metadata": {},
   "outputs": [],
   "source": [
    "# Find the best model based on the best score\n",
    "best_model_idx = results_df['Best Score'].idxmax()\n",
    "best_model_name = results_df.loc[best_model_idx, 'Model']\n",
    "best_model_params = results_df.loc[best_model_idx, 'Best Parameters']\n",
    "best_model_score = results_df.loc[best_model_idx, 'Best Score']"
   ]
  },
  {
   "cell_type": "code",
   "execution_count": 9,
   "id": "f7d37616",
   "metadata": {},
   "outputs": [
    {
     "name": "stdout",
     "output_type": "stream",
     "text": [
      "Best Model: SVR\n",
      "Best Parameters: {'C': 100, 'gamma': 'auto', 'kernel': 'rbf'}\n",
      "Best Score: 153839190.67146057\n",
      "\n"
     ]
    }
   ],
   "source": [
    "print('Best Model:', best_model_name)\n",
    "print('Best Parameters:', best_model_params)\n",
    "print('Best Score:', best_model_score)\n",
    "print()"
   ]
  }
 ],
 "metadata": {
  "kernelspec": {
   "display_name": "Python 3",
   "language": "python",
   "name": "python3"
  },
  "language_info": {
   "codemirror_mode": {
    "name": "ipython",
    "version": 3
   },
   "file_extension": ".py",
   "mimetype": "text/x-python",
   "name": "python",
   "nbconvert_exporter": "python",
   "pygments_lexer": "ipython3",
   "version": "3.8.8"
  }
 },
 "nbformat": 4,
 "nbformat_minor": 5
}
