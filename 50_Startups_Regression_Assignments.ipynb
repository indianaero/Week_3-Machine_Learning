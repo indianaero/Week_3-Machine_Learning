{
 "cells": [
  {
   "cell_type": "markdown",
   "id": "50f5e955",
   "metadata": {},
   "source": [
    "# Multiple Linear Regression"
   ]
  },
  {
   "cell_type": "code",
   "execution_count": 68,
   "id": "52d46f41",
   "metadata": {},
   "outputs": [],
   "source": [
    "import pandas as pd\n",
    "dataset = pd.read_csv(\"50_Startups.csv\") # import csv using pandas"
   ]
  },
  {
   "cell_type": "code",
   "execution_count": 69,
   "id": "0585a6a4",
   "metadata": {},
   "outputs": [],
   "source": [
    "dataset = pd.get_dummies(dataset,drop_first=True) #convert nominal data to numerical and drop 1st column"
   ]
  },
  {
   "cell_type": "code",
   "execution_count": 70,
   "id": "d25e7aee",
   "metadata": {},
   "outputs": [],
   "source": [
    "independent = dataset[['R&D Spend', 'Administration', 'Marketing Spend', 'State_Florida', 'State_New York']]\n",
    "dependent =dataset[['Profit']] #declare input and output variables"
   ]
  },
  {
   "cell_type": "code",
   "execution_count": 71,
   "id": "d5468058",
   "metadata": {},
   "outputs": [],
   "source": [
    "from sklearn.model_selection import train_test_split\n",
    "x_train,x_test,y_train,y_test =train_test_split(independent,dependent,test_size=0.30, random_state=0) #spilt training and test data"
   ]
  },
  {
   "cell_type": "code",
   "execution_count": 72,
   "id": "902b0b05",
   "metadata": {},
   "outputs": [],
   "source": [
    "from sklearn.linear_model import LinearRegression\n",
    "regressor = LinearRegression() # import LR model"
   ]
  },
  {
   "cell_type": "code",
   "execution_count": 73,
   "id": "8096c6c6",
   "metadata": {},
   "outputs": [
    {
     "data": {
      "text/plain": [
       "LinearRegression()"
      ]
     },
     "execution_count": 73,
     "metadata": {},
     "output_type": "execute_result"
    }
   ],
   "source": [
    "regressor.fit(x_train,y_train) #run the LR model on the training data set"
   ]
  },
  {
   "cell_type": "code",
   "execution_count": 74,
   "id": "18416e50",
   "metadata": {},
   "outputs": [
    {
     "data": {
      "text/plain": [
       "array([[7.90840255e-01, 3.01968165e-02, 3.10148566e-02, 4.63028992e+02,\n",
       "        3.04799573e+02]])"
      ]
     },
     "execution_count": 74,
     "metadata": {},
     "output_type": "execute_result"
    }
   ],
   "source": [
    "weight =regressor.coef_\n",
    "weight #calculate weight"
   ]
  },
  {
   "cell_type": "code",
   "execution_count": 75,
   "id": "c5f6f975",
   "metadata": {},
   "outputs": [
    {
     "data": {
      "text/plain": [
       "array([42403.87087053])"
      ]
     },
     "execution_count": 75,
     "metadata": {},
     "output_type": "execute_result"
    }
   ],
   "source": [
    "bias=regressor.intercept_\n",
    "bias #calculate bias"
   ]
  },
  {
   "cell_type": "code",
   "execution_count": 76,
   "id": "bc7e4198",
   "metadata": {},
   "outputs": [],
   "source": [
    "y_predict = regressor.predict(x_test)#run the Lr model to predict the training test data"
   ]
  },
  {
   "cell_type": "code",
   "execution_count": 77,
   "id": "bef184c8",
   "metadata": {},
   "outputs": [],
   "source": [
    "from sklearn.metrics import r2_score\n",
    "r_score =r2_score(y_test,y_predict) # import the evaluation metrics and compare the scores of output training data and test data "
   ]
  },
  {
   "cell_type": "code",
   "execution_count": 78,
   "id": "d4b20eda",
   "metadata": {},
   "outputs": [
    {
     "data": {
      "text/plain": [
       "0.9358680970046241"
      ]
     },
     "execution_count": 78,
     "metadata": {},
     "output_type": "execute_result"
    }
   ],
   "source": [
    "r_score # calculate the score - close to 1 - good model"
   ]
  },
  {
   "cell_type": "code",
   "execution_count": 79,
   "id": "40df3b04",
   "metadata": {},
   "outputs": [],
   "source": [
    "import pickle\n",
    "filename=\"final_model_MLR.sav\"\n",
    "pickle.dump(regressor,open(filename,\"wb\")) #import pickcle and save the model"
   ]
  },
  {
   "cell_type": "code",
   "execution_count": 80,
   "id": "2f7e75d7",
   "metadata": {},
   "outputs": [],
   "source": [
    "load_model =pickle.load(open(filename,\"rb\")) # load the model\n",
    "result = load_model.predict([[123,456,678,789,357]]) #get inputs"
   ]
  },
  {
   "cell_type": "code",
   "execution_count": 81,
   "id": "08927f8b",
   "metadata": {},
   "outputs": [
    {
     "data": {
      "text/plain": [
       "array([[516679.26408049]])"
      ]
     },
     "execution_count": 81,
     "metadata": {},
     "output_type": "execute_result"
    }
   ],
   "source": [
    "result # display the prediction for the given inputs and go for call to action"
   ]
  },
  {
   "cell_type": "markdown",
   "id": "7ef89026",
   "metadata": {},
   "source": [
    "# SVR Assignment"
   ]
  },
  {
   "cell_type": "code",
   "execution_count": 82,
   "id": "7de8ef4f",
   "metadata": {},
   "outputs": [],
   "source": [
    "from sklearn.preprocessing import StandardScaler\n",
    "sc=StandardScaler()\n",
    "x_train=sc.fit_transform(x_train)\n",
    "x_test=sc.transform(x_test) # standardize the input data"
   ]
  },
  {
   "cell_type": "code",
   "execution_count": 83,
   "id": "911d3cde",
   "metadata": {},
   "outputs": [
    {
     "name": "stderr",
     "output_type": "stream",
     "text": [
      "C:\\Users\\TG174VB\\Anaconda3\\lib\\site-packages\\sklearn\\utils\\validation.py:63: DataConversionWarning: A column-vector y was passed when a 1d array was expected. Please change the shape of y to (n_samples, ), for example using ravel().\n",
      "  return f(*args, **kwargs)\n"
     ]
    },
    {
     "data": {
      "text/plain": [
       "SVR()"
      ]
     },
     "execution_count": 83,
     "metadata": {},
     "output_type": "execute_result"
    }
   ],
   "source": [
    "from sklearn.svm import SVR\n",
    "regressor = SVR(kernel=\"rbf\")\n",
    "regressor.fit(x_train,y_train)#import SVR and apply the model on the training data"
   ]
  },
  {
   "cell_type": "code",
   "execution_count": 84,
   "id": "77a00a8c",
   "metadata": {},
   "outputs": [
    {
     "data": {
      "text/plain": [
       "array([108734.04106363])"
      ]
     },
     "execution_count": 84,
     "metadata": {},
     "output_type": "execute_result"
    }
   ],
   "source": [
    "regressor.intercept_"
   ]
  },
  {
   "cell_type": "code",
   "execution_count": 85,
   "id": "9940751b",
   "metadata": {},
   "outputs": [
    {
     "data": {
      "text/plain": [
       "array([34])"
      ]
     },
     "execution_count": 85,
     "metadata": {},
     "output_type": "execute_result"
    }
   ],
   "source": [
    "regressor.n_support_"
   ]
  },
  {
   "cell_type": "code",
   "execution_count": 86,
   "id": "9c103e4e",
   "metadata": {},
   "outputs": [
    {
     "data": {
      "text/plain": [
       "array([ 0,  1,  2,  3,  4,  5,  6,  7,  8,  9, 10, 11, 12, 13, 14, 15, 16,\n",
       "       17, 18, 19, 20, 21, 22, 23, 25, 26, 27, 28, 29, 30, 31, 32, 33, 34])"
      ]
     },
     "execution_count": 86,
     "metadata": {},
     "output_type": "execute_result"
    }
   ],
   "source": [
    "regressor.support_"
   ]
  },
  {
   "cell_type": "code",
   "execution_count": 87,
   "id": "442370a2",
   "metadata": {},
   "outputs": [],
   "source": [
    "y_predict=regressor.predict(x_test)#apply the model to predict the input test data"
   ]
  },
  {
   "cell_type": "code",
   "execution_count": 88,
   "id": "5a5daa3e",
   "metadata": {},
   "outputs": [
    {
     "data": {
      "text/plain": [
       "-0.057418393916219834"
      ]
     },
     "execution_count": 88,
     "metadata": {},
     "output_type": "execute_result"
    }
   ],
   "source": [
    "from sklearn.metrics import r2_score\n",
    "r_score = r2_score(y_test,y_predict)\n",
    "r_score #evaluate the outputs of test data and predicted data- not close to 1 so not saving the data"
   ]
  },
  {
   "cell_type": "markdown",
   "id": "34c7ea51",
   "metadata": {},
   "source": [
    "# Decision Tree Assignment\n"
   ]
  },
  {
   "cell_type": "code",
   "execution_count": 89,
   "id": "055c18fb",
   "metadata": {},
   "outputs": [
    {
     "data": {
      "text/plain": [
       "DecisionTreeRegressor(criterion='friedman_mse')"
      ]
     },
     "execution_count": 89,
     "metadata": {},
     "output_type": "execute_result"
    }
   ],
   "source": [
    "from sklearn.tree import DecisionTreeRegressor\n",
    "regressor=DecisionTreeRegressor(criterion='friedman_mse', splitter='best')\n",
    "regressor.fit(x_train,y_train)"
   ]
  },
  {
   "cell_type": "code",
   "execution_count": 90,
   "id": "e7dc47d4",
   "metadata": {},
   "outputs": [
    {
     "data": {
      "image/png": "[encoded data removed]",
      "text/plain": [
       "<Figure size 432x288 with 1 Axes>"
      ]
     },
     "metadata": {
      "needs_background": "light"
     },
     "output_type": "display_data"
    }
   ],
   "source": [
    "import matplotlib.pyplot as plt\n",
    "from sklearn import tree\n",
    "tree.plot_tree(regressor)\n",
    "plt.show()"
   ]
  },
  {
   "cell_type": "code",
   "execution_count": 91,
   "id": "8e88fd71",
   "metadata": {},
   "outputs": [],
   "source": [
    "y_predict=regressor.predict(x_test)#apply the model to predict the input test data"
   ]
  },
  {
   "cell_type": "code",
   "execution_count": 92,
   "id": "849e975e",
   "metadata": {},
   "outputs": [
    {
     "data": {
      "text/plain": [
       "0.9239755289729688"
      ]
     },
     "execution_count": 92,
     "metadata": {},
     "output_type": "execute_result"
    }
   ],
   "source": [
    "from sklearn.metrics import r2_score\n",
    "r_score = r2_score(y_test,y_predict)\n",
    "r_score #evaluate the outputs of test data and predicted data- not close to 1 so not saving the data"
   ]
  },
  {
   "cell_type": "markdown",
   "id": "ffdc7307",
   "metadata": {},
   "source": [
    "# Random Forest Assignment\n"
   ]
  },
  {
   "cell_type": "code",
   "execution_count": 93,
   "id": "e61049db",
   "metadata": {},
   "outputs": [
    {
     "name": "stderr",
     "output_type": "stream",
     "text": [
      "<ipython-input-93-022c336888b3>:3: DataConversionWarning: A column-vector y was passed when a 1d array was expected. Please change the shape of y to (n_samples,), for example using ravel().\n",
      "  regressor.fit(x_train,y_train)\n"
     ]
    },
    {
     "data": {
      "text/plain": [
       "RandomForestRegressor()"
      ]
     },
     "execution_count": 93,
     "metadata": {},
     "output_type": "execute_result"
    }
   ],
   "source": [
    "from sklearn.ensemble import RandomForestRegressor\n",
    "regressor=RandomForestRegressor()\n",
    "regressor.fit(x_train,y_train)"
   ]
  },
  {
   "cell_type": "code",
   "execution_count": 94,
   "id": "7fcee0df",
   "metadata": {},
   "outputs": [],
   "source": [
    "y_predict=regressor.predict(x_test)"
   ]
  },
  {
   "cell_type": "code",
   "execution_count": 95,
   "id": "831cb80f",
   "metadata": {},
   "outputs": [
    {
     "data": {
      "text/plain": [
       "0.9325887743777077"
      ]
     },
     "execution_count": 95,
     "metadata": {},
     "output_type": "execute_result"
    }
   ],
   "source": [
    "from sklearn.metrics import r2_score\n",
    "r_score = r2_score(y_test,y_predict)\n",
    "r_score #evaluate the outputs of test data and predicted data- not close to 1 so not saving the data"
   ]
  },
  {
   "cell_type": "code",
   "execution_count": 96,
   "id": "c7815cbf",
   "metadata": {},
   "outputs": [],
   "source": [
    "import pickle\n",
    "filename = \"final_model_RFregressor.sav\"\n",
    "pickle.dump(regressor,open(filename,\"wb\"))"
   ]
  },
  {
   "cell_type": "code",
   "execution_count": 97,
   "id": "cf7e0944",
   "metadata": {},
   "outputs": [],
   "source": [
    "load_model=pickle.load(open(filename,\"rb\"))"
   ]
  },
  {
   "cell_type": "code",
   "execution_count": 98,
   "id": "a7e01123",
   "metadata": {},
   "outputs": [],
   "source": [
    "result = load_model.predict([[1,2,3,4,5]])"
   ]
  },
  {
   "cell_type": "code",
   "execution_count": 99,
   "id": "0ed312a7",
   "metadata": {},
   "outputs": [
    {
     "data": {
      "text/plain": [
       "array([163023.8881])"
      ]
     },
     "execution_count": 99,
     "metadata": {},
     "output_type": "execute_result"
    }
   ],
   "source": [
    "result"
   ]
  }
 ],
 "metadata": {
  "kernelspec": {
   "display_name": "Python 3",
   "language": "python",
   "name": "python3"
  },
  "language_info": {
   "codemirror_mode": {
    "name": "ipython",
    "version": 3
   },
   "file_extension": ".py",
   "mimetype": "text/x-python",
   "name": "python",
   "nbconvert_exporter": "python",
   "pygments_lexer": "ipython3",
   "version": "3.8.8"
  }
 },
 "nbformat": 4,
 "nbformat_minor": 5
}
